{
 "cells": [
  {
   "cell_type": "markdown",
   "id": "b6786245-eda2-4f1a-91f1-6f8fc53578c8",
   "metadata": {},
   "source": [
    "#Python Mini Project \n"
   ]
  },
  {
   "cell_type": "markdown",
   "id": "be626d0f-bc07-4fcc-8851-ca730f54eb1e",
   "metadata": {},
   "source": [
    "#Restaurant Management System"
   ]
  },
  {
   "cell_type": "code",
   "execution_count": 8,
   "id": "d6f32874-9ad5-4796-8150-c1f3f4ac4024",
   "metadata": {},
   "outputs": [
    {
     "name": "stdout",
     "output_type": "stream",
     "text": [
      "Welcome to Shahab's Restaurant!\n",
      "Menu:\n",
      "pizza: Rs50\n",
      "pasta: Rs80\n",
      "burger: Rs60\n",
      "biryani: Rs100\n"
     ]
    },
    {
     "name": "stdin",
     "output_type": "stream",
     "text": [
      "Enter the item you want to order:  pasta\n"
     ]
    },
    {
     "name": "stdout",
     "output_type": "stream",
     "text": [
      "Your item 'pasta' has been added to your order!\n"
     ]
    },
    {
     "name": "stdin",
     "output_type": "stream",
     "text": [
      "Do you want to add another item? (Yes/No):  yes\n",
      "Enter the name of the item:  kll\n"
     ]
    },
    {
     "name": "stdout",
     "output_type": "stream",
     "text": [
      "Invalid item! Please choose from the menu.\n",
      "The total amount to pay is: Rs80\n"
     ]
    }
   ],
   "source": [
    "menu = {\n",
    "    'pizza': 50,\n",
    "    'pasta': 80,\n",
    "    'burger': 60,\n",
    "    'biryani': 100,\n",
    "}\n",
    "\n",
    "# Showing menu for the user\n",
    "print(\"Welcome to Shahab's Restaurant!\")\n",
    "print(\"Menu:\")\n",
    "for item, price in menu.items():\n",
    "    print(f\"{item}: Rs{price}\")\n",
    "\n",
    "order_total = 0\n",
    "\n",
    "# First item order\n",
    "item_1 = input(\"Enter the item you want to order: \").lower()\n",
    "if item_1 in menu:\n",
    "    order_total += menu[item_1]  # Add the price of the item to the total\n",
    "    print(f\"Your item '{item_1}' has been added to your order!\")\n",
    "else:\n",
    "    print(\"Please choose an item from the menu!\")\n",
    "\n",
    "# Second item order\n",
    "another_order = input(\"Do you want to add another item? (Yes/No): \").lower()\n",
    "if another_order == \"yes\":\n",
    "    item_2 = input(\"Enter the name of the item: \").lower()\n",
    "    if item_2 in menu:\n",
    "        order_total += menu[item_2]  # Add the price of the second item to the total\n",
    "        print(f\"Item '{item_2}' has been added to your order!\")\n",
    "    else:\n",
    "        print(\"Invalid item! Please choose from the menu.\")\n",
    "else:\n",
    "    print(\"No additional items added.\")\n",
    "\n",
    "# Display the total amount\n",
    "print(f\"The total amount to pay is: Rs{order_total}\")"
   ]
  },
  {
   "cell_type": "code",
   "execution_count": null,
   "id": "0dabf36e-db28-4405-8c49-4da80298c476",
   "metadata": {},
   "outputs": [],
   "source": []
  }
 ],
 "metadata": {
  "kernelspec": {
   "display_name": "Python 3 (ipykernel)",
   "language": "python",
   "name": "python3"
  },
  "language_info": {
   "codemirror_mode": {
    "name": "ipython",
    "version": 3
   },
   "file_extension": ".py",
   "mimetype": "text/x-python",
   "name": "python",
   "nbconvert_exporter": "python",
   "pygments_lexer": "ipython3",
   "version": "3.12.7"
  }
 },
 "nbformat": 4,
 "nbformat_minor": 5
}
